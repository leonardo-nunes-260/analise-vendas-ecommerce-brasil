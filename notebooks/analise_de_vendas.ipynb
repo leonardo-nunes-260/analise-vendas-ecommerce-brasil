{
 "cells": [
  {
   "cell_type": "code",
   "execution_count": null,
   "id": "ab923541-e075-4cd7-81fb-4ceab3d76cc7",
   "metadata": {},
   "outputs": [
    {
     "name": "stdout",
     "output_type": "stream",
     "text": [
      "Certifique-se de que os arquivos .csv estão na mesma pasta do seu script/notebook.\n"
     ]
    },
    {
     "ename": "NameError",
     "evalue": "name 'orders' is not defined",
     "output_type": "error",
     "traceback": [
      "\u001b[1;31m---------------------------------------------------------------------------\u001b[0m",
      "\u001b[1;31mNameError\u001b[0m                                 Traceback (most recent call last)",
      "Cell \u001b[1;32mIn[1], line 26\u001b[0m\n\u001b[0;32m     21\u001b[0m     exit()\n\u001b[0;32m     24\u001b[0m \u001b[38;5;66;03m# Unir os dataframes para criar um dataset único e mais rico\u001b[39;00m\n\u001b[0;32m     25\u001b[0m \u001b[38;5;66;03m# Merge 1: orders com customers\u001b[39;00m\n\u001b[1;32m---> 26\u001b[0m df \u001b[38;5;241m=\u001b[39m pd\u001b[38;5;241m.\u001b[39mmerge(orders, customers, on\u001b[38;5;241m=\u001b[39m\u001b[38;5;124m'\u001b[39m\u001b[38;5;124mcustomer_id\u001b[39m\u001b[38;5;124m'\u001b[39m)\n\u001b[0;32m     28\u001b[0m \u001b[38;5;66;03m# Merge 2: df com order_items\u001b[39;00m\n\u001b[0;32m     29\u001b[0m df \u001b[38;5;241m=\u001b[39m pd\u001b[38;5;241m.\u001b[39mmerge(df, order_items, on\u001b[38;5;241m=\u001b[39m\u001b[38;5;124m'\u001b[39m\u001b[38;5;124morder_id\u001b[39m\u001b[38;5;124m'\u001b[39m)\n",
      "\u001b[1;31mNameError\u001b[0m: name 'orders' is not defined"
     ]
    },
    {
     "ename": "",
     "evalue": "",
     "output_type": "error",
     "traceback": [
      "\u001b[1;31mThe Kernel crashed while executing code in the current cell or a previous cell. \n",
      "\u001b[1;31mPlease review the code in the cell(s) to identify a possible cause of the failure. \n",
      "\u001b[1;31mClick <a href='https://aka.ms/vscodeJupyterKernelCrash'>here</a> for more info. \n",
      "\u001b[1;31mView Jupyter <a href='command:jupyter.viewOutput'>log</a> for further details."
     ]
    }
   ],
   "source": [
    "###Passo 1: Instalar as bibliotecas e importar os dados\n",
    "\n",
    "# Importar as bibliotecas necessárias\n",
    "import pandas as pd\n",
    "import numpy as np\n",
    "import matplotlib.pyplot as plt\n",
    "import seaborn as sns\n",
    "import zipfile\n",
    "\n",
    "# Definir um estilo para os gráficos\n",
    "sns.set_style(\"whitegrid\")\n",
    "\n",
    "# Carregar os datasets (ajuste o caminho se necessário)\n",
    "try:\n",
    "    customers = pd.read_csv('leonardo-nunes-260/analise-vendas-ecommerce-brasil/notebooks/data/olist_customers_dataset.csv', compression='zip')\n",
    "    orders = pd.read_csv('leonardo-nunes-260/analise-vendas-ecommerce-brasil/notebooks/data/olist_orders_dataset.csv', compression='zip')\n",
    "    order_items = pd.read_csv('leonardo-nunes-260/analise-vendas-ecommerce-brasil/notebooks/data/olist_order_items_dataset.csv', compression='zip')\n",
    "    products = pd.read_csv('leonardo-nunes-260/analise-vendas-ecommerce-brasil/notebooks/data/olist_products_dataset.csv', compression='zip')\n",
    "    translation = pd.read_csv('leonardo-nunes-260/analise-vendas-ecommerce-brasil/notebooks/data/product_category_name_translation.csv')\n",
    "\n",
    "except FileNotFoundError as e:\n",
    "    print(f\"Erro ao carregar os arquivos: {e}\")\n",
    "    print(\"Verifique se a estrutura de pastas está correta: o script na pasta 'notebooks' e os dados na pasta 'data'.\")\n",
    "    exit()\n",
    "\n",
    "\n",
    "# Unir os dataframes para criar um dataset único e mais rico\n",
    "# Merge 1: orders com customers\n",
    "df = pd.merge(orders, customers, on='customer_id')\n",
    "\n",
    "# Merge 2: df com order_items\n",
    "df = pd.merge(df, order_items, on='order_id')\n",
    "\n",
    "# Merge 3: df com products\n",
    "df = pd.merge(df, products, on='product_id')\n",
    "\n",
    "# Merge 4: df com a tradução das categorias\n",
    "df = pd.merge(df, translation, on='product_category_name')\n",
    "\n",
    "print(\"Dados carregados e unificados com sucesso!\")\n",
    "print(\"Shape do dataframe final:\", df.shape)\n",
    "df.head()"
   ]
  },
  {
   "cell_type": "code",
   "execution_count": null,
   "id": "0eec0ae7-99a7-40cf-850b-2391bca9b74d",
   "metadata": {},
   "outputs": [
    {
     "ename": "NameError",
     "evalue": "name 'df' is not defined",
     "output_type": "error",
     "traceback": [
      "\u001b[1;31m---------------------------------------------------------------------------\u001b[0m",
      "\u001b[1;31mNameError\u001b[0m                                 Traceback (most recent call last)",
      "Cell \u001b[1;32mIn[1], line 7\u001b[0m\n\u001b[0;32m      1\u001b[0m \u001b[38;5;66;03m# Vamos selecionar apenas as colunas que nos interessam para a análise\u001b[39;00m\n\u001b[0;32m      2\u001b[0m colunas_relevantes \u001b[38;5;241m=\u001b[39m [\n\u001b[0;32m      3\u001b[0m     \u001b[38;5;124m'\u001b[39m\u001b[38;5;124morder_id\u001b[39m\u001b[38;5;124m'\u001b[39m, \u001b[38;5;124m'\u001b[39m\u001b[38;5;124mcustomer_id\u001b[39m\u001b[38;5;124m'\u001b[39m, \u001b[38;5;124m'\u001b[39m\u001b[38;5;124morder_status\u001b[39m\u001b[38;5;124m'\u001b[39m, \u001b[38;5;124m'\u001b[39m\u001b[38;5;124morder_purchase_timestamp\u001b[39m\u001b[38;5;124m'\u001b[39m,\n\u001b[0;32m      4\u001b[0m     \u001b[38;5;124m'\u001b[39m\u001b[38;5;124mprice\u001b[39m\u001b[38;5;124m'\u001b[39m, \u001b[38;5;124m'\u001b[39m\u001b[38;5;124mfreight_value\u001b[39m\u001b[38;5;124m'\u001b[39m, \u001b[38;5;124m'\u001b[39m\u001b[38;5;124mproduct_category_name_english\u001b[39m\u001b[38;5;124m'\u001b[39m,\n\u001b[0;32m      5\u001b[0m     \u001b[38;5;124m'\u001b[39m\u001b[38;5;124mcustomer_unique_id\u001b[39m\u001b[38;5;124m'\u001b[39m, \u001b[38;5;124m'\u001b[39m\u001b[38;5;124mcustomer_city\u001b[39m\u001b[38;5;124m'\u001b[39m, \u001b[38;5;124m'\u001b[39m\u001b[38;5;124mcustomer_state\u001b[39m\u001b[38;5;124m'\u001b[39m\n\u001b[0;32m      6\u001b[0m ]\n\u001b[1;32m----> 7\u001b[0m df_limpo \u001b[38;5;241m=\u001b[39m df[colunas_relevantes]\n\u001b[0;32m      9\u001b[0m \u001b[38;5;66;03m# Verificar valores nulos\u001b[39;00m\n\u001b[0;32m     10\u001b[0m \u001b[38;5;28mprint\u001b[39m(\u001b[38;5;124m\"\u001b[39m\u001b[38;5;124mValores nulos por coluna:\u001b[39m\u001b[38;5;124m\"\u001b[39m)\n",
      "\u001b[1;31mNameError\u001b[0m: name 'df' is not defined"
     ]
    }
   ],
   "source": [
    "###Passo 2: Limpeza e Preparação dos Dados\n",
    "\n",
    "# Vamos selecionar apenas as colunas que nos interessam para a análise\n",
    "colunas_relevantes = [\n",
    "    'order_id', 'customer_id', 'order_status', 'order_purchase_timestamp',\n",
    "    'price', 'freight_value', 'product_category_name_english',\n",
    "    'customer_unique_id', 'customer_city', 'customer_state'\n",
    "]\n",
    "df_limpo = df[colunas_relevantes]\n",
    "\n",
    "# Verificar valores nulos\n",
    "print(\"Valores nulos por coluna:\")\n",
    "print(df_limpo.isnull().sum())\n",
    "\n",
    "# Converter a coluna de data para o formato datetime\n",
    "df_limpo['order_purchase_timestamp'] = pd.to_datetime(df_limpo['order_purchase_timestamp'])\n",
    "\n",
    "# Vamos focar apenas em pedidos entregues ('delivered') para garantir a análise de vendas concretizadas\n",
    "df_limpo = df_limpo[df_limpo['order_status'] == 'delivered']\n",
    "\n",
    "print(\"\\nDados limpos e preparados.\")\n",
    "df_limpo.info()"
   ]
  },
  {
   "cell_type": "code",
   "execution_count": null,
   "id": "7f3e6c1d-5af4-4ab1-b130-93ff30ee5ca0",
   "metadata": {},
   "outputs": [],
   "source": [
    "###Passo 3: Análise Exploratória de Dados (EDA)"
   ]
  },
  {
   "cell_type": "code",
   "execution_count": null,
   "id": "4aba9ec0-3270-46a1-a118-32cfc63d1bc4",
   "metadata": {},
   "outputs": [
    {
     "ename": "NameError",
     "evalue": "name 'df_limpo' is not defined",
     "output_type": "error",
     "traceback": [
      "\u001b[1;31m---------------------------------------------------------------------------\u001b[0m",
      "\u001b[1;31mNameError\u001b[0m                                 Traceback (most recent call last)",
      "Cell \u001b[1;32mIn[4], line 4\u001b[0m\n\u001b[0;32m      1\u001b[0m \u001b[38;5;66;03m##Pergunta 1 de Negócio: Em quais estados devemos focar?\u001b[39;00m\n\u001b[0;32m      2\u001b[0m \n\u001b[0;32m      3\u001b[0m \u001b[38;5;66;03m# Contar o número de pedidos por estado\u001b[39;00m\n\u001b[1;32m----> 4\u001b[0m pedidos_por_estado \u001b[38;5;241m=\u001b[39m df_limpo[\u001b[38;5;124m'\u001b[39m\u001b[38;5;124mcustomer_state\u001b[39m\u001b[38;5;124m'\u001b[39m]\u001b[38;5;241m.\u001b[39mvalue_counts()\u001b[38;5;241m.\u001b[39mreset_index()\n\u001b[0;32m      5\u001b[0m pedidos_por_estado\u001b[38;5;241m.\u001b[39mcolumns \u001b[38;5;241m=\u001b[39m [\u001b[38;5;124m'\u001b[39m\u001b[38;5;124mEstado\u001b[39m\u001b[38;5;124m'\u001b[39m, \u001b[38;5;124m'\u001b[39m\u001b[38;5;124mTotal de Pedidos\u001b[39m\u001b[38;5;124m'\u001b[39m]\n\u001b[0;32m      7\u001b[0m \u001b[38;5;66;03m# Visualização\u001b[39;00m\n",
      "\u001b[1;31mNameError\u001b[0m: name 'df_limpo' is not defined"
     ]
    }
   ],
   "source": [
    "##Pergunta 1: Em quais estados devemos focar?\n",
    "\n",
    "# Contar o número de pedidos por estado\n",
    "pedidos_por_estado = df_limpo['customer_state'].value_counts().reset_index()\n",
    "pedidos_por_estado.columns = ['Estado', 'Total de Pedidos']\n",
    "\n",
    "# Visualização\n",
    "plt.figure(figsize=(15, 8))\n",
    "sns.barplot(x='Estado', y='Total de Pedidos', data=pedidos_por_estado.head(10))\n",
    "plt.title('Top 10 Estados por Número de Pedidos', fontsize=16)\n",
    "plt.xlabel('Estado', fontsize=12)\n",
    "plt.ylabel('Número de Pedidos', fontsize=12)\n",
    "plt.xticks(rotation=45)\n",
    "plt.show()\n",
    "\n",
    "#Insight: A análise mostrará uma concentração massiva em São Paulo (SP), seguido por Rio de Janeiro (RJ) e Minas Gerais (MG). Isso indica onde a base de clientes é mais forte."
   ]
  },
  {
   "cell_type": "code",
   "execution_count": null,
   "id": "f7b786b0-0628-4733-8a7c-3a685c6429a1",
   "metadata": {},
   "outputs": [],
   "source": [
    "##Pergunta 2: Quais as categorias de produtos mais vendidas?\n",
    "\n",
    "# Contar o número de vendas por categoria de produto\n",
    "vendas_por_categoria = df_limpo['product_category_name_english'].value_counts().reset_index()\n",
    "vendas_por_categoria.columns = ['Categoria', 'Total de Vendas']\n",
    "\n",
    "# Visualização\n",
    "plt.figure(figsize=(15, 8))\n",
    "sns.barplot(x='Total de Vendas', y='Categoria', data=vendas_por_categoria.head(10), orient='h')\n",
    "plt.title('Top 10 Categorias de Produtos Mais Vendidas', fontsize=16)\n",
    "plt.xlabel('Número de Vendas', fontsize=12)\n",
    "plt.ylabel('Categoria', fontsize=12)\n",
    "plt.show()\n",
    "\n",
    "#Insight: Categorias como \"bed_bath_table\", \"health_beauty\" e \"sports_leisure\" provavelmente aparecerão no topo. Isso informa ao marketing quais produtos promover."
   ]
  },
  {
   "cell_type": "code",
   "execution_count": null,
   "id": "5fe6dbf8-d67c-47a6-870d-0187446604bf",
   "metadata": {},
   "outputs": [],
   "source": [
    "##Pergunta 3: Qual o faturamento por categoria?\n",
    "\n",
    "# Calcular o faturamento por categoria (preço do produto)\n",
    "faturamento_por_categoria = df_limpo.groupby('product_category_name_english')['price'].sum().sort_values(ascending=False).reset_index()\n",
    "faturamento_por_categoria.columns = ['Categoria', 'Faturamento Total']\n",
    "\n",
    "# Visualização\n",
    "plt.figure(figsize=(15, 8))\n",
    "sns.barplot(x='Faturamento Total', y='Categoria', data=faturamento_por_categoria.head(10), orient='h')\n",
    "plt.title('Top 10 Categorias por Faturamento', fontsize=16)\n",
    "plt.xlabel('Faturamento (em R$)', fontsize=12)\n",
    "plt.ylabel('Categoria', fontsize=12)\n",
    "plt.show()\n",
    "\n",
    "#Insight: Esta visão complementa a anterior. Uma categoria pode vender muito, mas ter um faturamento baixo se os produtos forem baratos. Focar em categorias de alto faturamento é crucial para a lucratividade."
   ]
  },
  {
   "cell_type": "code",
   "execution_count": null,
   "id": "90d5edad-b289-4831-8927-779726bbb1d8",
   "metadata": {},
   "outputs": [
    {
     "data": {
      "text/plain": [
       "\"\\n\\nConclusão da Análise:\\n\\nA análise dos dados de vendas revelou insights cruciais para a estratégia da empresa:\\n\\n- Concentração Geográfica: Existe uma forte concentração de vendas na região Sudeste, com o estado de São Paulo (SP) liderando com uma margem expressiva, seguido por Rio de Janeiro (RJ) e Minas Gerais (MG).\\n- Performance de Categorias: As categorias com maior volume de vendas são 'cama_mesa_banho' e 'beleza_saude'. No entanto, em termos de faturamento, categorias com ticket médio mais alto, como 'relogios_presentes' e 'informatica_acessorios', também se destacam.\\n\\nRecomendação Estratégica:\\n\\nCom base nesta análise, recomendamos as seguintes ações:\\n\\nPara o Marketing:\\n\\n- Ação 1: Intensificar as campanhas de marketing digital geolocalizadas para os estados de SP, RJ e MG, aproveitando a base de clientes já consolidada.\\n- Ação 2: Criar campanhas de e-mail marketing e anúncios focados nas categorias de 'cama_mesa_banho' e 'beleza_saude' para impulsionar ainda mais o volume de vendas.\\n\\nPara o Estoque:\\n\\n- Ação 1: Garantir um nível de estoque robusto para as categorias de maior faturamento e volume, como 'cama_mesa_banho', 'beleza_saude' e 'relogios_presentes', especialmente nos centros de distribuição que atendem a região Sudeste, para evitar ruptura de estoque.\\n- Ação 2: Analisar as categorias com baixo volume de vendas e faturamento (as que ficam no final da lista) para avaliar a possibilidade de descontinuar produtos ou criar promoções de queima de estoque.\\n\""
      ]
     },
     "execution_count": 11,
     "metadata": {},
     "output_type": "execute_result"
    }
   ],
   "source": [
    "\"\"\"\n",
    "\n",
    "Conclusão da Análise:\n",
    "\n",
    "A análise dos dados de vendas revelou insights cruciais para a estratégia da empresa:\n",
    "\n",
    "- Concentração Geográfica: Existe uma forte concentração de vendas na região Sudeste, com o estado de São Paulo (SP) liderando com uma margem expressiva, seguido por Rio de Janeiro (RJ) e Minas Gerais (MG).\n",
    "- Performance de Categorias: As categorias com maior volume de vendas são 'cama_mesa_banho' e 'beleza_saude'. No entanto, em termos de faturamento, categorias com ticket médio mais alto, como 'relogios_presentes' e 'informatica_acessorios', também se destacam.\n",
    "\n",
    "Recomendação Estratégica:\n",
    "\n",
    "Com base nesta análise, recomendamos as seguintes ações:\n",
    "\n",
    "1) Para o Marketing:\n",
    "\n",
    "- Ação 1: Intensificar as campanhas de marketing digital geolocalizadas para os estados de SP, RJ e MG, aproveitando a base de clientes já consolidada.\n",
    "- Ação 2: Criar campanhas de e-mail marketing e anúncios focados nas categorias de 'cama_mesa_banho' e 'beleza_saude' para impulsionar ainda mais o volume de vendas.\n",
    "\n",
    "2) Para o Estoque:\n",
    "\n",
    "- Ação 1: Garantir um nível de estoque robusto para as categorias de maior faturamento e volume, como 'cama_mesa_banho', 'beleza_saude' e 'relogios_presentes', especialmente nos centros de distribuição que atendem a região Sudeste, para evitar ruptura de estoque.\n",
    "- Ação 2: Analisar as categorias com baixo volume de vendas e faturamento (as que ficam no final da lista) para avaliar a possibilidade de descontinuar produtos ou criar promoções de queima de estoque.\n",
    "\"\"\""
   ]
  },
  {
   "cell_type": "code",
   "execution_count": null,
   "id": "0f03c4f6-a955-44ab-9e21-802b5fadebdf",
   "metadata": {},
   "outputs": [],
   "source": []
  }
 ],
 "metadata": {
  "kernelspec": {
   "display_name": "base",
   "language": "python",
   "name": "python3"
  },
  "language_info": {
   "codemirror_mode": {
    "name": "ipython",
    "version": 3
   },
   "file_extension": ".py",
   "mimetype": "text/x-python",
   "name": "python",
   "nbconvert_exporter": "python",
   "pygments_lexer": "ipython3",
   "version": "3.13.5"
  }
 },
 "nbformat": 4,
 "nbformat_minor": 5
}
